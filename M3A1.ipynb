{
  "nbformat": 4,
  "nbformat_minor": 0,
  "metadata": {
    "colab": {
      "name": "M3A1",
      "provenance": [],
      "collapsed_sections": []
    },
    "kernelspec": {
      "name": "python3",
      "display_name": "Python 3"
    },
    "accelerator": "GPU"
  },
  "cells": [
    {
      "cell_type": "markdown",
      "metadata": {
        "id": "enIEYXxH01HK",
        "colab_type": "text"
      },
      "source": [
        "# Module 3, assignment 1"
      ]
    },
    {
      "cell_type": "markdown",
      "metadata": {
        "id": "k9BO-A8U09Yv",
        "colab_type": "text"
      },
      "source": [
        "# Intro\n",
        "This assignment attempt to predict whether or not Trump tweets are genuine or produced by the https://faketrump.ai/ project."
      ]
    },
    {
      "cell_type": "markdown",
      "metadata": {
        "id": "2YKqLiCX1kFG",
        "colab_type": "text"
      },
      "source": [
        "The data used was given as part of the assignment."
      ]
    },
    {
      "cell_type": "markdown",
      "metadata": {
        "id": "Ul2aYxFF4bur",
        "colab_type": "text"
      },
      "source": [
        "## Preprocessing"
      ]
    },
    {
      "cell_type": "markdown",
      "metadata": {
        "id": "D5cIIkVZ4cmc",
        "colab_type": "text"
      },
      "source": [
        "#### Turning annoying warnings off."
      ]
    },
    {
      "cell_type": "code",
      "metadata": {
        "id": "J8KYz01Y4YnI",
        "colab_type": "code",
        "colab": {}
      },
      "source": [
        "# Filtering annmoying warning spam\n",
        "from warnings import simplefilter\n",
        "simplefilter(action='ignore', category=(FutureWarning,DeprecationWarning,UserWarning,Warning))"
      ],
      "execution_count": 0,
      "outputs": []
    },
    {
      "cell_type": "markdown",
      "metadata": {
        "id": "ez6R75hF06b1",
        "colab_type": "text"
      },
      "source": [
        "#### Loading modules"
      ]
    },
    {
      "cell_type": "code",
      "metadata": {
        "id": "EzmWgZ4Tzb4V",
        "colab_type": "code",
        "outputId": "9151da03-adcb-416b-e599-1ccadd93a2c0",
        "colab": {
          "base_uri": "https://localhost:8080/",
          "height": 289
        }
      },
      "source": [
        "## Loading modules\n",
        "#\n",
        "## NVidia GPU optimizer\n",
        "!nvidia-smi\n",
        "\n",
        "## Usual suspects\n",
        "import pandas as pd\n",
        "import numpy as np\n",
        "import matplotlib.pyplot as plt\n",
        "\n",
        "## Keras & Co\n",
        "import seaborn as sns\n",
        "import keras\n",
        "import os\n",
        "\n",
        "from keras.preprocessing.text import Tokenizer\n",
        "from keras.preprocessing.sequence import pad_sequences\n",
        "from keras.preprocessing import sequence\n",
        "from keras.layers import Dense, LSTM, Dropout, Activation, Dense, Input, CuDNNLSTM, Embedding, Dropout, SpatialDropout1D, Bidirectional\n",
        "from keras.layers.normalization import BatchNormalization\n",
        "from keras.initializers import Constant\n",
        "from keras.models import Sequential\n",
        "from keras.callbacks import EarlyStopping\n",
        "from keras.utils import to_categorical\n",
        "\n",
        "from collections import Counter\n",
        "\n",
        "from sklearn.model_selection import train_test_split\n",
        "from sklearn.model_selection import StratifiedKFold\n",
        "from sklearn.feature_extraction.text import TfidfVectorizer\n",
        "from sklearn.feature_extraction import DictVectorizer\n",
        "from sklearn.externals import joblib"
      ],
      "execution_count": 110,
      "outputs": [
        {
          "output_type": "stream",
          "text": [
            "Mon Nov 18 21:21:18 2019       \n",
            "+-----------------------------------------------------------------------------+\n",
            "| NVIDIA-SMI 430.50       Driver Version: 418.67       CUDA Version: 10.1     |\n",
            "|-------------------------------+----------------------+----------------------+\n",
            "| GPU  Name        Persistence-M| Bus-Id        Disp.A | Volatile Uncorr. ECC |\n",
            "| Fan  Temp  Perf  Pwr:Usage/Cap|         Memory-Usage | GPU-Util  Compute M. |\n",
            "|===============================+======================+======================|\n",
            "|   0  Tesla K80           Off  | 00000000:00:04.0 Off |                    0 |\n",
            "| N/A   47C    P0    59W / 149W |   4339MiB / 11441MiB |      0%      Default |\n",
            "+-------------------------------+----------------------+----------------------+\n",
            "                                                                               \n",
            "+-----------------------------------------------------------------------------+\n",
            "| Processes:                                                       GPU Memory |\n",
            "|  GPU       PID   Type   Process name                             Usage      |\n",
            "|=============================================================================|\n",
            "+-----------------------------------------------------------------------------+\n"
          ],
          "name": "stdout"
        }
      ]
    },
    {
      "cell_type": "markdown",
      "metadata": {
        "id": "ON9vymM_3aSU",
        "colab_type": "text"
      },
      "source": [
        "#### Fetching data and initial processing"
      ]
    },
    {
      "cell_type": "code",
      "metadata": {
        "id": "E8r0rYK43S3H",
        "colab_type": "code",
        "outputId": "8d7f6558-0cb4-4ac2-da2e-01a687fcbab7",
        "colab": {
          "base_uri": "https://localhost:8080/",
          "height": 204
        }
      },
      "source": [
        "# Fetch dataset\n",
        "!wget -qq https://github.com/DeepLearnI/trump_tweet_classifier/raw/master/code/tweet_labels.csv -O df.csv\n",
        "df = pd.read_csv('df.csv')\n",
        "df['labels'].astype('uint8')\n",
        "df.head(5)"
      ],
      "execution_count": 111,
      "outputs": [
        {
          "output_type": "execute_result",
          "data": {
            "text/html": [
              "<div>\n",
              "<style scoped>\n",
              "    .dataframe tbody tr th:only-of-type {\n",
              "        vertical-align: middle;\n",
              "    }\n",
              "\n",
              "    .dataframe tbody tr th {\n",
              "        vertical-align: top;\n",
              "    }\n",
              "\n",
              "    .dataframe thead th {\n",
              "        text-align: right;\n",
              "    }\n",
              "</style>\n",
              "<table border=\"1\" class=\"dataframe\">\n",
              "  <thead>\n",
              "    <tr style=\"text-align: right;\">\n",
              "      <th></th>\n",
              "      <th>tweet</th>\n",
              "      <th>labels</th>\n",
              "    </tr>\n",
              "  </thead>\n",
              "  <tbody>\n",
              "    <tr>\n",
              "      <th>0</th>\n",
              "      <td>To every one of the HEROES we recognized today...</td>\n",
              "      <td>True</td>\n",
              "    </tr>\n",
              "    <tr>\n",
              "      <th>1</th>\n",
              "      <td>We have been serving as policemen in Afghanist...</td>\n",
              "      <td>True</td>\n",
              "    </tr>\n",
              "    <tr>\n",
              "      <th>2</th>\n",
              "      <td>...the Economy, where there is NO Recession, m...</td>\n",
              "      <td>True</td>\n",
              "    </tr>\n",
              "    <tr>\n",
              "      <th>3</th>\n",
              "      <td>...the look of turmoil in the White House, of ...</td>\n",
              "      <td>True</td>\n",
              "    </tr>\n",
              "    <tr>\n",
              "      <th>4</th>\n",
              "      <td>A lot of Fake News is being reported that I ov...</td>\n",
              "      <td>True</td>\n",
              "    </tr>\n",
              "  </tbody>\n",
              "</table>\n",
              "</div>"
            ],
            "text/plain": [
              "                                               tweet  labels\n",
              "0  To every one of the HEROES we recognized today...    True\n",
              "1  We have been serving as policemen in Afghanist...    True\n",
              "2  ...the Economy, where there is NO Recession, m...    True\n",
              "3  ...the look of turmoil in the White House, of ...    True\n",
              "4  A lot of Fake News is being reported that I ov...    True"
            ]
          },
          "metadata": {
            "tags": []
          },
          "execution_count": 111
        }
      ]
    },
    {
      "cell_type": "markdown",
      "metadata": {
        "id": "YXJKKkvg5507",
        "colab_type": "text"
      },
      "source": [
        "Inspecting data"
      ]
    },
    {
      "cell_type": "code",
      "metadata": {
        "id": "IPFcvTLU6AEH",
        "colab_type": "code",
        "colab": {
          "base_uri": "https://localhost:8080/",
          "height": 34
        },
        "outputId": "7a08df73-23a2-4569-abb6-b468fa9f6b9b"
      },
      "source": [
        "print(len(df))"
      ],
      "execution_count": 112,
      "outputs": [
        {
          "output_type": "stream",
          "text": [
            "15348\n"
          ],
          "name": "stdout"
        }
      ]
    },
    {
      "cell_type": "code",
      "metadata": {
        "id": "F2GMAx3Y6FU_",
        "colab_type": "code",
        "colab": {
          "base_uri": "https://localhost:8080/",
          "height": 136
        },
        "outputId": "e703c712-3e85-4777-f5dd-dfab77d9c593"
      },
      "source": [
        "df.info()"
      ],
      "execution_count": 113,
      "outputs": [
        {
          "output_type": "stream",
          "text": [
            "<class 'pandas.core.frame.DataFrame'>\n",
            "RangeIndex: 15348 entries, 0 to 15347\n",
            "Data columns (total 2 columns):\n",
            "tweet     15348 non-null object\n",
            "labels    15348 non-null bool\n",
            "dtypes: bool(1), object(1)\n",
            "memory usage: 135.0+ KB\n"
          ],
          "name": "stdout"
        }
      ]
    },
    {
      "cell_type": "code",
      "metadata": {
        "id": "J2DgsZ_M57mM",
        "colab_type": "code",
        "colab": {
          "base_uri": "https://localhost:8080/",
          "height": 68
        },
        "outputId": "830cbdd3-3958-4e84-e629-47ffceaff7cb"
      },
      "source": [
        "df['labels'].value_counts()"
      ],
      "execution_count": 114,
      "outputs": [
        {
          "output_type": "execute_result",
          "data": {
            "text/plain": [
              "True     8000\n",
              "False    7348\n",
              "Name: labels, dtype: int64"
            ]
          },
          "metadata": {
            "tags": []
          },
          "execution_count": 114
        }
      ]
    },
    {
      "cell_type": "markdown",
      "metadata": {
        "id": "kFLF9ylY6PH4",
        "colab_type": "text"
      },
      "source": [
        "There is a fair amount of data as well as a fair distribution of 8000 to 7348 of true and false samples. So no problems regarding different sample representation is expected."
      ]
    },
    {
      "cell_type": "markdown",
      "metadata": {
        "id": "3Xk9n-577Ysz",
        "colab_type": "text"
      },
      "source": [
        "## Modeling"
      ]
    },
    {
      "cell_type": "markdown",
      "metadata": {
        "id": "vw1OhA3A8dyD",
        "colab_type": "text"
      },
      "source": [
        "The problem is fairly complex and uses data that is not easy categorized, so no point in wasting time with simpler models. Straight to RNN"
      ]
    },
    {
      "cell_type": "markdown",
      "metadata": {
        "id": "_ZS6ie3Z9FT7",
        "colab_type": "text"
      },
      "source": [
        "First tokenization and padding. A high vocabulary size is chosen since the tweets have been known to contain deliberate misspellings for political purposes. See \"Covfefe\". Paddig is set to 280 due to the max length of tweets."
      ]
    },
    {
      "cell_type": "code",
      "metadata": {
        "id": "Nz1Tc00j8Wko",
        "colab_type": "code",
        "colab": {}
      },
      "source": [
        "## Tokenizing\n",
        "vocabulary_size = 20000\n",
        "tokenizer = Tokenizer(num_words = vocabulary_size)\n",
        "tokenizer.fit_on_texts(df['tweet'])\n",
        "sequences = tokenizer.texts_to_sequences(df['tweet'])\n",
        "\n",
        "## Padding\n",
        "mxl = 280\n",
        "a = pad_sequences(sequences, maxlen=mxl)\n",
        "indices = range(len(a))\n",
        "b = df['labels']"
      ],
      "execution_count": 0,
      "outputs": []
    },
    {
      "cell_type": "markdown",
      "metadata": {
        "id": "q01NvQwi9vAj",
        "colab_type": "text"
      },
      "source": [
        "Model building"
      ]
    },
    {
      "cell_type": "markdown",
      "metadata": {
        "id": "OrlWMkvx_D0k",
        "colab_type": "text"
      },
      "source": [
        "For the split, a large test sample is selected because the data is very varied, and a plit with a small test sample is likely to contain patterns in the train set not includede in the test set due high variance."
      ]
    },
    {
      "cell_type": "markdown",
      "metadata": {
        "id": "QBiPEwbYbYoj",
        "colab_type": "text"
      },
      "source": [
        "During preliminary manual testing the 'Nadam' optimizer was found yielding the best results. Documentation can be found here: https://keras.io/optimizers/"
      ]
    },
    {
      "cell_type": "code",
      "metadata": {
        "id": "gbfYZk_g9vSx",
        "colab_type": "code",
        "colab": {
          "base_uri": "https://localhost:8080/",
          "height": 374
        },
        "outputId": "ccf3605d-86b6-42cb-86ac-02f6faac9b74"
      },
      "source": [
        "## Split\n",
        "X_train, X_test, y_train, y_test, index_train, index_test = train_test_split(a, b, indices,  test_size=0.4)\n",
        "embedding_vector_length = 500\n",
        "## Initiation\n",
        "model = Sequential()\n",
        "## Layering\n",
        "model.add(Embedding(vocabulary_size, embedding_vector_length, input_length=mxl))\n",
        "model.add(SpatialDropout1D(0.05))\n",
        "model.add(CuDNNLSTM(24))\n",
        "model.add(Dropout(0.1))\n",
        "model.add(BatchNormalization())\n",
        "model.add(Dense(1, activation='sigmoid'))\n",
        "model.compile(loss='binary_crossentropy', optimizer='nadam', metrics=['accuracy'])\n",
        "print(model.summary())"
      ],
      "execution_count": 116,
      "outputs": [
        {
          "output_type": "stream",
          "text": [
            "Model: \"sequential_22\"\n",
            "_________________________________________________________________\n",
            "Layer (type)                 Output Shape              Param #   \n",
            "=================================================================\n",
            "embedding_22 (Embedding)     (None, 280, 500)          10000000  \n",
            "_________________________________________________________________\n",
            "spatial_dropout1d_22 (Spatia (None, 280, 500)          0         \n",
            "_________________________________________________________________\n",
            "cu_dnnlstm_23 (CuDNNLSTM)    (None, 24)                50496     \n",
            "_________________________________________________________________\n",
            "dropout_21 (Dropout)         (None, 24)                0         \n",
            "_________________________________________________________________\n",
            "batch_normalization_21 (Batc (None, 24)                96        \n",
            "_________________________________________________________________\n",
            "dense_21 (Dense)             (None, 1)                 25        \n",
            "=================================================================\n",
            "Total params: 10,050,617\n",
            "Trainable params: 10,050,569\n",
            "Non-trainable params: 48\n",
            "_________________________________________________________________\n",
            "None\n"
          ],
          "name": "stdout"
        }
      ]
    },
    {
      "cell_type": "markdown",
      "metadata": {
        "id": "mDAm79qvD84v",
        "colab_type": "text"
      },
      "source": [
        "Let's see what accurracy we can expect."
      ]
    },
    {
      "cell_type": "code",
      "metadata": {
        "id": "J-8PXjAyAeKV",
        "colab_type": "code",
        "colab": {
          "base_uri": "https://localhost:8080/",
          "height": 428
        },
        "outputId": "016f8b3e-fb9c-4fc0-bc3e-bcdaafef0efe"
      },
      "source": [
        "acctest = model.fit(X_train, y_train, epochs=10, validation_data=(X_test, y_test))\n",
        "print(acctest.history['val_loss'])\n",
        "print(acctest.history['val_acc'])"
      ],
      "execution_count": 117,
      "outputs": [
        {
          "output_type": "stream",
          "text": [
            "Train on 9208 samples, validate on 6140 samples\n",
            "Epoch 1/10\n",
            "9208/9208 [==============================] - 22s 2ms/step - loss: 0.5716 - acc: 0.6849 - val_loss: 0.4826 - val_acc: 0.7594\n",
            "Epoch 2/10\n",
            "9208/9208 [==============================] - 17s 2ms/step - loss: 0.3214 - acc: 0.8604 - val_loss: 0.5301 - val_acc: 0.7516\n",
            "Epoch 3/10\n",
            "9208/9208 [==============================] - 17s 2ms/step - loss: 0.1790 - acc: 0.9328 - val_loss: 0.6872 - val_acc: 0.7280\n",
            "Epoch 4/10\n",
            "9208/9208 [==============================] - 17s 2ms/step - loss: 0.1122 - acc: 0.9581 - val_loss: 0.7796 - val_acc: 0.7482\n",
            "Epoch 5/10\n",
            "9208/9208 [==============================] - 17s 2ms/step - loss: 0.0781 - acc: 0.9732 - val_loss: 0.9080 - val_acc: 0.7539\n",
            "Epoch 6/10\n",
            "9208/9208 [==============================] - 17s 2ms/step - loss: 0.0614 - acc: 0.9791 - val_loss: 1.0447 - val_acc: 0.7352\n",
            "Epoch 7/10\n",
            "9208/9208 [==============================] - 17s 2ms/step - loss: 0.0422 - acc: 0.9865 - val_loss: 1.0902 - val_acc: 0.7388\n",
            "Epoch 8/10\n",
            "9208/9208 [==============================] - 17s 2ms/step - loss: 0.0400 - acc: 0.9863 - val_loss: 1.2432 - val_acc: 0.7370\n",
            "Epoch 9/10\n",
            "9208/9208 [==============================] - 17s 2ms/step - loss: 0.0423 - acc: 0.9865 - val_loss: 1.1406 - val_acc: 0.7283\n",
            "Epoch 10/10\n",
            "9208/9208 [==============================] - 17s 2ms/step - loss: 0.0386 - acc: 0.9878 - val_loss: 1.2409 - val_acc: 0.7419\n",
            "[0.48260843889721056, 0.5301079347389916, 0.68721820007318, 0.7796051805881413, 0.9079575101405091, 1.044683793701644, 1.0901886908938132, 1.2431879601960074, 1.14061947420288, 1.2408711433410644]\n",
            "[0.7594462540716612, 0.7516286644174532, 0.7280130291994698, 0.7482084689777139, 0.7539087947106129, 0.7351791530944626, 0.7387622149060525, 0.7369706841167487, 0.7283387621761533, 0.7418566774079388]\n"
          ],
          "name": "stdout"
        }
      ]
    },
    {
      "cell_type": "markdown",
      "metadata": {
        "id": "KjCfAvw4CPrJ",
        "colab_type": "text"
      },
      "source": [
        "Accurracy is somewhere between 0,72 and 0,75"
      ]
    },
    {
      "cell_type": "markdown",
      "metadata": {
        "id": "3KiBeqSTCc61",
        "colab_type": "text"
      },
      "source": [
        "Loss is plotted to determine the optimal number of epocs."
      ]
    },
    {
      "cell_type": "code",
      "metadata": {
        "id": "JqgB4aLkCyrD",
        "colab_type": "code",
        "colab": {
          "base_uri": "https://localhost:8080/",
          "height": 295
        },
        "outputId": "05c604ab-6190-4d6f-bde7-b03c65d184fe"
      },
      "source": [
        "np.random.seed(1337)\n",
        "plt.figure()\n",
        "plt.plot(acctest.history['acc'])\n",
        "plt.plot(acctest.history['val_acc'])\n",
        "plt.title('Model accuracy')\n",
        "plt.ylabel('Accurracy')\n",
        "plt.xlabel('Epoch')\n",
        "plt.legend(['Train', 'Test'])\n",
        "plt.show()"
      ],
      "execution_count": 120,
      "outputs": [
        {
          "output_type": "display_data",
          "data": {
            "image/png": "[encoded data removed]",
            "text/plain": [
              "<Figure size 432x288 with 1 Axes>"
            ]
          },
          "metadata": {
            "tags": []
          }
        }
      ]
    },
    {
      "cell_type": "markdown",
      "metadata": {
        "id": "JooTXK8yC9b8",
        "colab_type": "text"
      },
      "source": [
        "Looks like 4 epochs is optimal."
      ]
    },
    {
      "cell_type": "markdown",
      "metadata": {
        "id": "kvxB5K-vTPvo",
        "colab_type": "text"
      },
      "source": [
        "Now let's refit the model and see what it can do."
      ]
    },
    {
      "cell_type": "code",
      "metadata": {
        "id": "BNs8uEGKDPSd",
        "colab_type": "code",
        "colab": {
          "base_uri": "https://localhost:8080/",
          "height": 224
        },
        "outputId": "0ea21b95-5592-46a1-ea15-8559b48e2faf"
      },
      "source": [
        "model.fit(X_train, y_train, epochs=4, batch_size=24, validation_data=(X_test, y_test))\n",
        "model.evaluate(X_test, y_test)"
      ],
      "execution_count": 121,
      "outputs": [
        {
          "output_type": "stream",
          "text": [
            "Train on 9208 samples, validate on 6140 samples\n",
            "Epoch 1/4\n",
            "9208/9208 [==============================] - 23s 2ms/step - loss: 0.0313 - acc: 0.9900 - val_loss: 1.3474 - val_acc: 0.7469\n",
            "Epoch 2/4\n",
            "9208/9208 [==============================] - 23s 2ms/step - loss: 0.0305 - acc: 0.9896 - val_loss: 1.3149 - val_acc: 0.7476\n",
            "Epoch 3/4\n",
            "9208/9208 [==============================] - 23s 2ms/step - loss: 0.0231 - acc: 0.9927 - val_loss: 1.4295 - val_acc: 0.7443\n",
            "Epoch 4/4\n",
            "9208/9208 [==============================] - 23s 2ms/step - loss: 0.0249 - acc: 0.9937 - val_loss: 1.4187 - val_acc: 0.7485\n",
            "6140/6140 [==============================] - 3s 421us/step\n"
          ],
          "name": "stdout"
        },
        {
          "output_type": "execute_result",
          "data": {
            "text/plain": [
              "[1.4186907180357444, 0.7485342019932277]"
            ]
          },
          "metadata": {
            "tags": []
          },
          "execution_count": 121
        }
      ]
    },
    {
      "cell_type": "markdown",
      "metadata": {
        "id": "iBUY5HXGETvn",
        "colab_type": "text"
      },
      "source": [
        "The model achieved an accurracy of 0.748. Meaning 74,8% of the times, the model will correctly determine whether or not a tweet is true or false."
      ]
    },
    {
      "cell_type": "markdown",
      "metadata": {
        "id": "uCgyQKnXbGfK",
        "colab_type": "text"
      },
      "source": [
        "While not a particular impressive result, due to time constraints the model will not be optimized further."
      ]
    },
    {
      "cell_type": "markdown",
      "metadata": {
        "id": "nTJTx4WWbOfk",
        "colab_type": "text"
      },
      "source": [
        "Thank you for reading and thank you for your time."
      ]
    }
  ]
}